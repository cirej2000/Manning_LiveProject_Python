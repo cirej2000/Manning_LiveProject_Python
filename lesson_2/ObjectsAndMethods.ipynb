{
 "cells": [
  {
   "cell_type": "code",
   "execution_count": 9,
   "id": "66ce0d8a-83e1-4794-ac03-7cbaa1edb982",
   "metadata": {},
   "outputs": [
    {
     "name": "stdout",
     "output_type": "stream",
     "text": [
      "price object id = 4738775904. price object = <__main__.Price object at 0x11a73fb60>\n",
      "price2 object id = 4738772544. price2 object = <__main__.Price2 object at 0x11a73ee40>\n"
     ]
    }
   ],
   "source": [
    "class Price:\n",
    "    def __init__(self, part_number, price):\n",
    "        self.price = price\n",
    "        self.part_number = part_number\n",
    "\n",
    "    def get_price(self):\n",
    "        return self.price\n",
    "\n",
    "\n",
    "price = Price('110z33', 19.99)\n",
    "print(f'price object id = {id(price)}. price object = {price}')\n",
    "namespace = {\"__init__\": Price.__init__, \"get_price\": Price.get_price}\n",
    "Price2 = type('Price2', (), namespace)\n",
    "price2 = Price2('303u33', 24.99)\n",
    "print(f'price2 object id = {id(price2)}. price2 object = {price2}')\n"
   ]
  },
  {
   "cell_type": "code",
   "execution_count": null,
   "id": "40c22167-6652-4775-9502-2517bdf95639",
   "metadata": {},
   "outputs": [],
   "source": []
  }
 ],
 "metadata": {
  "kernelspec": {
   "display_name": "Python 3 (ipykernel)",
   "language": "python",
   "name": "python3"
  },
  "language_info": {
   "codemirror_mode": {
    "name": "ipython",
    "version": 3
   },
   "file_extension": ".py",
   "mimetype": "text/x-python",
   "name": "python",
   "nbconvert_exporter": "python",
   "pygments_lexer": "ipython3",
   "version": "3.12.3"
  }
 },
 "nbformat": 4,
 "nbformat_minor": 5
}
