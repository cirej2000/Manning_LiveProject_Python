{
 "cells": [
  {
   "cell_type": "code",
   "execution_count": 16,
   "id": "f53cb726-534b-4f9d-b8de-743bef76d416",
   "metadata": {},
   "outputs": [
    {
     "name": "stdout",
     "output_type": "stream",
     "text": [
      "[1, 3, 9] [1, 3, 9]\n",
      "1 hello\n",
      "4390503936\n",
      "{'a': 'eh', 'b': 'bee', 'c': 'sea', 'd': 'dee'} {'a': 'eh', 'b': 'bee', 'c': 'sea', 'd': 'dee'}\n",
      "{'a': 'eh', 'b': 'bee', 'c': 'sea', 'd': 'dee', 'i': 'eye'} {'a': 'eh', 'b': 'bee', 'c': 'sea', 'd': 'dee', 'i': 'eye'}\n",
      "(1, 4, 'five')\n",
      "1\n",
      "(1, 4, 'five') (1, 4, 'five')\n",
      "id tuple1 and tuple2 4714744640 4714744640\n",
      "(1, 4, 'five') (2, 5, 'seven')\n",
      "id tuple1 and tuple2 4714744640 4395274816\n"
     ]
    }
   ],
   "source": [
    "a = [1, 3, 5]\n",
    "b = a\n",
    "b[2] = 9\n",
    "print(a,b)\n",
    "c = 1\n",
    "d = c\n",
    "d = 'hello'\n",
    "print(c,d)\n",
    "print(id(d))\n",
    "dict_one = {'a':'aye', 'b':'bee', 'c':'sea', 'd':'dee'}\n",
    "dict_two = dict_one\n",
    "dict_two['a'] = 'eh'\n",
    "print(dict_one, dict_two)\n",
    "dict_one['i'] = 'eye'\n",
    "print(dict_one, dict_two)\n",
    "tuple1 = (1,4,'five')\n",
    "print(tuple1)\n",
    "print(tuple1[0])\n",
    "tuple2 = tuple1\n",
    "print(tuple1, tuple2)\n",
    "print('id tuple1 and tuple2', id(tuple1), id(tuple2))\n",
    "tuple2 = (2, 5, 'seven')\n",
    "print(tuple1, tuple2)\n",
    "print('id tuple1 and tuple2', id(tuple1), id(tuple2))"
   ]
  },
  {
   "cell_type": "code",
   "execution_count": null,
   "id": "265b430a-24fb-4b1c-bd84-84002aaef696",
   "metadata": {},
   "outputs": [],
   "source": []
  }
 ],
 "metadata": {
  "kernelspec": {
   "display_name": "Python 3 (ipykernel)",
   "language": "python",
   "name": "python3"
  },
  "language_info": {
   "codemirror_mode": {
    "name": "ipython",
    "version": 3
   },
   "file_extension": ".py",
   "mimetype": "text/x-python",
   "name": "python",
   "nbconvert_exporter": "python",
   "pygments_lexer": "ipython3",
   "version": "3.12.3"
  }
 },
 "nbformat": 4,
 "nbformat_minor": 5
}
